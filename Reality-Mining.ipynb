{
 "cells": [
  {
   "cell_type": "markdown",
   "metadata": {},
   "source": [
    "# Reality Mining\n",
    "\n",
    "\n",
    "### Author:  Elsa Scola Martín\n",
    "\n",
    "### Objectives:\n",
    "\n",
    "-  find the correlation among people who frequently work in the same place or near around\n",
    "\n",
    "### What is done in the Notebook: \n",
    "\n",
    "-  preprocess the dataset\n",
    "-  preparing data for clustering\n",
    "-  calculate the optimal number of clusters and compute k means\n",
    "-  apply PCA (Principal Component Analysis)\n",
    "-  analyze and contrast the results "
   ]
  },
  {
   "cell_type": "markdown",
   "metadata": {},
   "source": [
    "# Importing the libraries"
   ]
  },
  {
   "cell_type": "markdown",
   "metadata": {},
   "source": [
    "First of all, I import all relevant libraries to be used in the notebook. "
   ]
  },
  {
   "cell_type": "code",
   "execution_count": 1,
   "metadata": {},
   "outputs": [],
   "source": [
    "# General Imports\n",
    "import pandas as pd\n",
    "from pandas import DataFrame\n",
    "import numpy as np\n",
    "import matplotlib.pyplot as plt\n",
    "\n",
    "# To load the data\n",
    "import scipy.io as sio\n",
    "\n",
    "# To transform dates from matlab format to Python format\n",
    "from datetime import datetime, timedelta\n",
    "\n",
    "# To apply KMeans and PCA\n",
    "from sklearn.cluster import KMeans\n",
    "from sklearn.decomposition import PCA"
   ]
  },
  {
   "cell_type": "markdown",
   "metadata": {},
   "source": [
    "# Reading the dataset"
   ]
  },
  {
   "cell_type": "code",
   "execution_count": 2,
   "metadata": {},
   "outputs": [],
   "source": [
    "# I load the data which is in matlab format, it takes less than a minute to load the data\n",
    "mat_contents = sio.loadmat('C:/Users/elsas.DESKTOP-DVRVL8F/OneDrive/Escritorio/UNI/MLNN/Projects/Project1/Reality Mining/RealityMining/realitymining.mat')"
   ]
  },
  {
   "cell_type": "code",
   "execution_count": 3,
   "metadata": {
    "scrolled": true
   },
   "outputs": [
    {
     "data": {
      "text/plain": [
       "dict_keys(['__header__', '__version__', '__globals__', 'network', 's'])"
      ]
     },
     "execution_count": 3,
     "metadata": {},
     "output_type": "execute_result"
    }
   ],
   "source": [
    "# I print the keys of the dataset so I can see how is divided\n",
    "mat_contents.keys()"
   ]
  },
  {
   "cell_type": "markdown",
   "metadata": {},
   "source": [
    "The actual collected data is located in network and s so we will focus on those two main parts. \n",
    "'network' contains the data collected on the online survey completed by 94 of the 106 Reality Mining subjects.\n",
    "'s' includes the subject data of 106 individuals."
   ]
  },
  {
   "cell_type": "code",
   "execution_count": 4,
   "metadata": {},
   "outputs": [],
   "source": [
    "# I assign each data section to a variable for convenience.\n",
    "networkSurv=mat_contents['network'][0][0]\n",
    "subjects=mat_contents['s'][0]\n"
   ]
  },
  {
   "cell_type": "code",
   "execution_count": 5,
   "metadata": {},
   "outputs": [
    {
     "data": {
      "text/plain": [
       "dtype([('friends', 'O'), ('outlab', 'O'), ('lab', 'O'), ('sub_sort', 'O')])"
      ]
     },
     "execution_count": 5,
     "metadata": {},
     "output_type": "execute_result"
    }
   ],
   "source": [
    "# I observe the structure of the survey data\n",
    "networkSurv.dtype"
   ]
  },
  {
   "cell_type": "markdown",
   "metadata": {},
   "source": [
    "The network survey data is divided in 4 parts:\n",
    "- **'friends'**: 94 arrays (each one represents a subject of the survey) in which is represented if each person is part of the close circle of friends of the subject. '**1**' for Yes, '**nan**' for No.\n",
    "- **'outlab'**: 94 arrays (each one represents a subject of the suvey) in which is represented the proximity (within 10 feet/3 metres) with eachperson outside the lab **5** *at least 4-8 hours per day* **4** *at least 2-4 hours per day*  **3** *at least 2 hrs - 30 minutes per day* **2** *at least 10 - 30 minutes per day* **1** *at least 5 minutes* **0(default)** *0-5 minutes*.\n",
    "- **'lab'**: 94 arrays (each one represents a subject of the survey) in which is represented the proximity (within 10 feet/3 metres) with eachperson at work **5** *at least 4-8 hours per day* **4** *at least 2-4 hours per day*  **3** *at least 2 hrs - 30 minutes per day* **2** *at least 10 - 30 minutes per day* **1** *at least 5 minutes* **0(default)** *0-5 minutes*.\n",
    "- **'sub_sort'**: an array of 94 numbers (each one represents the number/identifier of a subject of the survey).\n",
    "\n",
    "I will focus on the **'lab'** and **'friends'** data as our project focuses on workplace relationships."
   ]
  },
  {
   "cell_type": "code",
   "execution_count": 6,
   "metadata": {},
   "outputs": [],
   "source": [
    "# I assign each data section to a variable for convenience.\n",
    "friends=networkSurv['friends']\n",
    "outlab=networkSurv['outlab']\n",
    "lab=networkSurv['lab']\n",
    "sub_sort=networkSurv['sub_sort'][0]"
   ]
  },
  {
   "cell_type": "markdown",
   "metadata": {},
   "source": [
    "# Preprocessing and preparation of the data"
   ]
  },
  {
   "cell_type": "markdown",
   "metadata": {},
   "source": [
    "I am interested only in the subjects that completed the survey so in the end I can compare my results to the survey without having missing data."
   ]
  },
  {
   "cell_type": "code",
   "execution_count": 7,
   "metadata": {},
   "outputs": [
    {
     "data": {
      "text/plain": [
       "array([  3,   4,   5,   6,   7,   8,   9,  10,  11,  12,  13,  14,  15,\n",
       "        16,  17,  19,  20,  21,  22,  23,  25,  26,  27,  28,  29,  30,\n",
       "        31,  32,  33,  35,  36,  37,  38,  40,  41,  42,  43,  44,  46,\n",
       "        48,  49,  50,  52,  53,  54,  55,  56,  57,  58,  60,  61,  62,\n",
       "        63,  65,  66,  67,  68,  69,  70,  71,  72,  73,  74,  75,  76,\n",
       "        77,  78,  79,  80,  81,  82,  83,  84,  86,  87,  88,  89,  90,\n",
       "        91,  92,  93,  94,  95,  96,  97,  98,  99, 100, 101, 102, 103,\n",
       "       104, 106, 107], dtype=uint8)"
      ]
     },
     "execution_count": 7,
     "metadata": {},
     "output_type": "execute_result"
    }
   ],
   "source": [
    "# This is the array that contains the subjects that completed the survey\n",
    "sub_sort"
   ]
  },
  {
   "cell_type": "markdown",
   "metadata": {},
   "source": [
    "Now, I store on a list the identifiers of the towers associated to the workplace (see [RealityMining_ReadMe](http://realitycommons.media.mit.edu/download.php?file=RealityMiningReadMe.pdf) document)."
   ]
  },
  {
   "cell_type": "code",
   "execution_count": 8,
   "metadata": {},
   "outputs": [
    {
     "data": {
      "text/plain": [
       "24"
      ]
     },
     "execution_count": 8,
     "metadata": {},
     "output_type": "execute_result"
    }
   ],
   "source": [
    "towers = [5119.40811,5119.40332,5123.40763,5119.40801,5119.40802,\n",
    "          5131.43861,5119.40793,24127.132,24127.131,24127.2421,\n",
    "          24127.2353,24127.111,24127.2832,24127.113,24127.2422,\n",
    "         24127.112,24127.2413,24127.133,24127.2433,24123.261,24127.2832,5119.40342,24127.2833,24127.182]\n",
    "len(towers)"
   ]
  },
  {
   "cell_type": "markdown",
   "metadata": {},
   "source": [
    "subjects[ i ][ 'locs' ] contains all the connections to towers of subject i and the date of that connection. \n",
    "\n",
    "The next function loops through all the connections to towers registered in each subject and stores in a list the subjects that have been at list once near the towers associated to the workplace (as I am only interested in subjects that have ever been in the workplace). \n",
    "\n"
   ]
  },
  {
   "cell_type": "code",
   "execution_count": 9,
   "metadata": {},
   "outputs": [],
   "source": [
    "def finalSubjFunct():\n",
    "    s=0\n",
    "    finalSubj=[]\n",
    "    length=len(sub_sort)-2\n",
    "    surv=0\n",
    "    while surv<length:\n",
    "        s=sub_sort[surv]\n",
    "        i=0\n",
    "        flag=0\n",
    "        if len(subjects[s]['locs'])>0:\n",
    "            if len(subjects[s]['locs'][0])>0:\n",
    "                while i<len(subjects[s]['locs']) and flag==0:\n",
    "                    #print(s)\n",
    "                    #print(i)\n",
    "                    for j in range(len(towers)):\n",
    "                         if subjects[s]['locs'][i][1]==towers[j]:\n",
    "                                flag=1\n",
    "                                finalSubj.append(s)\n",
    "                    i+=1            \n",
    "        surv+=1\n",
    "    return finalSubj"
   ]
  },
  {
   "cell_type": "code",
   "execution_count": 10,
   "metadata": {},
   "outputs": [],
   "source": [
    "# I store in final the final list of subjects, this function takes less than a minute to run\n",
    "final=finalSubjFunct()"
   ]
  },
  {
   "cell_type": "code",
   "execution_count": 11,
   "metadata": {},
   "outputs": [
    {
     "data": {
      "text/plain": [
       "63"
      ]
     },
     "execution_count": 11,
     "metadata": {},
     "output_type": "execute_result"
    }
   ],
   "source": [
    "len(final) #there are 63 subjects"
   ]
  },
  {
   "cell_type": "markdown",
   "metadata": {},
   "source": [
    "As I will need to compute the time difference between tower connections (to know how much time has been each subject on a specific location in the workplace), I have to convert the dates from matlab format to Python format, so then I can compute the difference."
   ]
  },
  {
   "cell_type": "code",
   "execution_count": 12,
   "metadata": {},
   "outputs": [],
   "source": [
    "\n",
    "# I create a function that converts the date from a matlab format to the Python format\n",
    "def convertDatetime(dt):\n",
    "    return datetime.fromordinal(int(dt)) + timedelta(days=dt%1) - timedelta(days=366) - timedelta(hours=5) \n",
    "\n",
    "\n",
    "\n",
    "# I create a function that given 2 dates returns \n",
    "#  -the difference in days \n",
    "#  -the difference in hours (the difference is made only between the 2 hours, it does not take into account the dates) \n",
    "def funcDaysHoursDif(time1, time2):\n",
    "    #find the difference between two dates\n",
    "    diff = time2 - time1\n",
    "\n",
    "    days = diff.days  \n",
    "    hours = (diff.seconds) / 3600  \n",
    "\n",
    "    return(days, hours)\n",
    "\n"
   ]
  },
  {
   "cell_type": "markdown",
   "metadata": {},
   "source": [
    "Now I create a function that generates empty matrices (this will be the input of the funcStructData funtion)."
   ]
  },
  {
   "cell_type": "code",
   "execution_count": 13,
   "metadata": {},
   "outputs": [],
   "source": [
    "def genEmptyMatrix(rows,columns):\n",
    "    table=[]\n",
    "    for r in range(rows):\n",
    "        row=[]\n",
    "        for c in range(columns):\n",
    "            row.append(0)\n",
    "        table.append(row)\n",
    "    return table\n",
    "        "
   ]
  },
  {
   "cell_type": "markdown",
   "metadata": {},
   "source": [
    "The next function given an empty matrix and a threshold returns in that same matrix the next data:\n",
    "-  each row represents a subject (of the previously selected ones)\n",
    "-  from column 0 to 23 it is represented the time spent in each of the 24 towers that represent the workplace\n",
    "-  from column 24 to 47 it is represented the number of times a subject has been detected from each of the 24 towers that represent the workplace \n",
    "\n",
    "\n",
    "Note: I only add time to the time spent in a tower and 1 to the frequency of that tower if the time spent in that tower is greater than the threshold. I do this because if the time spent is less than the threshold we consider that the subject has not been working in that place."
   ]
  },
  {
   "cell_type": "code",
   "execution_count": 14,
   "metadata": {},
   "outputs": [],
   "source": [
    "# This function takes less than 2 minutes to run\n",
    "def funcStructData(emptyTable,threshold):\n",
    "    table=emptyTable\n",
    "    isWorkTower=0 #flag\n",
    "    prevTime=convertDatetime(732198.52855324)\n",
    "    days=0\n",
    "    hours=0.0\n",
    "    towerNum=0\n",
    "    actTime=convertDatetime(732198.52855324)\n",
    "    for f in range(len(final)):\n",
    "        s=final[f]\n",
    "        for i in range(len(subjects[s]['locs'])):\n",
    "            if isWorkTower==1:\n",
    "                actTime=convertDatetime(subjects[s]['locs'][i][0])\n",
    "                days,hours=funcDaysHoursDif(prevTime,actTime)\n",
    "                if days==0 and 10>=hours>=threshold:\n",
    "                    table[f][towerNum]+=hours\n",
    "                    table[f][towerNum+24]+=1\n",
    "            t=0\n",
    "            found=0\n",
    "            while t<len(towers) and found==0:\n",
    "                if subjects[s]['locs'][i][1]==towers[t]:\n",
    "                    isWorkTower=1\n",
    "                    prevTime=actTime\n",
    "                    towerNum=t\n",
    "                    found=1\n",
    "                else:\n",
    "                    isWorkTower=0\n",
    "                t+=1\n",
    "    return table\n",
    "            \n",
    "        "
   ]
  },
  {
   "cell_type": "code",
   "execution_count": 15,
   "metadata": {},
   "outputs": [],
   "source": [
    "EmpTable=genEmptyMatrix(63,48)\n",
    "dataTable=funcStructData(EmpTable,1)"
   ]
  },
  {
   "cell_type": "markdown",
   "metadata": {},
   "source": [
    "Now I want to insert our final data structured on a .csv file, for that I use DataFrame from pandas."
   ]
  },
  {
   "cell_type": "code",
   "execution_count": 16,
   "metadata": {},
   "outputs": [],
   "source": [
    "data=dataTable\n",
    "index=final\n",
    "columns=['T0','T1','T2','T3','T4','T5','T6','T7','T8','T9','T10','T11','T12','T13','T14','T15','T16','T17','T18','T19'\n",
    "         ,'T20','T21','T22','T23','F0','F1','F2','F3','F4','F5','F6','F7','F8','F9','F10','F11','F12','F13','F14','F15'\n",
    "         ,'F16','F17','F18','F19','F20','F21','F22','F23']\n",
    "df = pd.DataFrame(data,index,columns)\n"
   ]
  },
  {
   "cell_type": "markdown",
   "metadata": {},
   "source": [
    "When I visualize the data I notice that there are several towers that no subject has connected to, therefore, as they do not add any value, I don't take them into account. These towers are 7-20, 22 and 23, so I delete their corresponding times and frequencies."
   ]
  },
  {
   "cell_type": "code",
   "execution_count": 17,
   "metadata": {},
   "outputs": [],
   "source": [
    "modifiedDF = df.drop(['T7','T8','T9','T10','T11','T12','T13','T14','T15','T16','T17','T18','T19'\n",
    "         ,'T20','T22','T23','F7','F8','F9','F10','F11','F12','F13','F14','F15'\n",
    "         ,'F16','F17','F18','F19','F20','F22','F23'], axis=1)\n",
    "modifiedDF.to_csv('datafile.csv')"
   ]
  },
  {
   "cell_type": "markdown",
   "metadata": {},
   "source": [
    "# Clustering and visualization "
   ]
  },
  {
   "cell_type": "markdown",
   "metadata": {},
   "source": [
    "As I will be using the k-means algorithm to solve the problem and I need to specify a number (k) of clusters, I use the **elbow method** to determine the optimal number of clusters."
   ]
  },
  {
   "cell_type": "code",
   "execution_count": 18,
   "metadata": {},
   "outputs": [],
   "source": [
    "# I load the data from the file created above\n",
    "dataframe = pd.read_csv(\"datafile.csv\")\n",
    "X = np.array(dataframe[['T0','T1','T2','T3','T4','T5','T6','T21',\n",
    "                        'F0','F1','F2','F3','F4','F5','F6','F21']])"
   ]
  },
  {
   "cell_type": "code",
   "execution_count": 19,
   "metadata": {},
   "outputs": [
    {
     "data": {
      "image/png": "[encoded data removed]",
      "text/plain": [
       "<Figure size 432x288 with 1 Axes>"
      ]
     },
     "metadata": {
      "needs_background": "light"
     },
     "output_type": "display_data"
    }
   ],
   "source": [
    "# I evaluate the elbow curve to know the optimal number of clusters\n",
    "Nc = range(1, 20)\n",
    "kmeans = [KMeans(n_clusters=i) for i in Nc]\n",
    "score = [kmeans[i].fit(X).score(X) for i in range(len(kmeans))]\n",
    "plt.plot(Nc,score)\n",
    "plt.xlabel('Number of Clusters')\n",
    "plt.ylabel('Score')\n",
    "plt.title('Elbow Curve')\n",
    "plt.show()"
   ]
  },
  {
   "cell_type": "markdown",
   "metadata": {},
   "source": [
    "It can observed that the optimal value on the \"elbow\" is 6. This number is the same that was obtained on a study by their optimization process on the \"Reality Mining\" dataset: [K-means based clustering on mobile usage for social network analysis purpose](https://www.researchgate.net/publication/224219112_K-means_based_clustering_on_mobile_usage_for_social_network_analysis_purpose), this ensures that this really is the optimal value."
   ]
  },
  {
   "cell_type": "markdown",
   "metadata": {},
   "source": [
    "### K means"
   ]
  },
  {
   "cell_type": "markdown",
   "metadata": {},
   "source": [
    "Now, I apply k-means to our data with the number of clusters obtained above and I fit it."
   ]
  },
  {
   "cell_type": "code",
   "execution_count": 20,
   "metadata": {},
   "outputs": [
    {
     "data": {
      "text/plain": [
       "KMeans(algorithm='auto', copy_x=True, init='k-means++', max_iter=300,\n",
       "    n_clusters=6, n_init=10, n_jobs=None, precompute_distances='auto',\n",
       "    random_state=None, tol=0.0001, verbose=0)"
      ]
     },
     "execution_count": 20,
     "metadata": {},
     "output_type": "execute_result"
    }
   ],
   "source": [
    "kmeans = KMeans(n_clusters=6)  \n",
    "kmeans.fit(X) \n"
   ]
  },
  {
   "cell_type": "markdown",
   "metadata": {},
   "source": [
    "Now I have the centroids of the clusters:"
   ]
  },
  {
   "cell_type": "code",
   "execution_count": 21,
   "metadata": {},
   "outputs": [
    {
     "name": "stdout",
     "output_type": "stream",
     "text": [
      "[[ 6.89917460e+01  5.67995635e+01  2.06290079e+01  2.41595635e+01\n",
      "   4.07836905e+01  7.34321429e+00  4.01376984e+00  2.56712500e+02\n",
      "   2.80000000e+01  2.60000000e+01  7.85714286e+00  7.57142857e+00\n",
      "   1.40000000e+01  1.71428571e+00  1.71428571e+00  8.42857143e+01]\n",
      " [ 2.96501190e+01  3.53546329e+01  1.20128770e+01  1.71483135e+00\n",
      "   5.38283730e-01  7.10049603e-01  1.98112103e+00  1.09162996e+01\n",
      "   1.32500000e+01  1.09285714e+01  4.35714286e+00  6.42857143e-01\n",
      "   2.14285714e-01  1.78571429e-01  7.14285714e-01  3.85714286e+00]\n",
      " [ 2.00542415e+02  7.72217735e+01  2.83154701e+01  1.45850214e+01\n",
      "   9.78309829e+00  1.05897436e+00  6.21049145e+00  2.41289530e+01\n",
      "   7.90000000e+01  2.46923077e+01  9.00000000e+00  3.92307692e+00\n",
      "   3.07692308e+00  5.38461538e-01  2.23076923e+00  7.38461538e+00]\n",
      " [ 1.12484306e+02  7.00090625e+01  4.17293056e+01  7.12993056e+00\n",
      "   3.21736111e+00  1.82743056e-01  1.17219444e+01  5.13312986e+02\n",
      "   4.57500000e+01  2.68750000e+01  1.25000000e+01  2.00000000e+00\n",
      "   1.12500000e+00  1.25000000e-01  3.62500000e+00  1.61375000e+02]\n",
      " [ 7.26402778e+01  4.39809722e+01  3.48922292e+02  1.06256944e+00\n",
      "   1.84416667e+00  4.30208333e-01  9.98194444e-01  5.69312500e+00\n",
      "   3.42500000e+01  1.57500000e+01  9.32500000e+01  7.50000000e-01\n",
      "   7.50000000e-01  2.50000000e-01  7.50000000e-01  2.25000000e+00]\n",
      " [ 6.20264815e+01  3.71199722e+02  6.65543519e+01  3.65592593e+00\n",
      "   1.42416667e+00  0.00000000e+00  2.27528704e+01  1.99864815e+01\n",
      "   2.46666667e+01  1.19333333e+02  2.23333333e+01  1.33333333e+00\n",
      "   6.66666667e-01 -5.55111512e-17  9.00000000e+00  7.33333333e+00]]\n"
     ]
    }
   ],
   "source": [
    "centroids=kmeans.cluster_centers_  \n",
    "print(centroids)"
   ]
  },
  {
   "cell_type": "markdown",
   "metadata": {},
   "source": [
    "### PCA"
   ]
  },
  {
   "cell_type": "markdown",
   "metadata": {},
   "source": [
    "As the results I have obtained are multidimensional, I cannot visualize them, for this it is convenient to use the Principal Component Analysis procedure to reduce it without losing coherence in our data. \n",
    "Therefore, I create a function that computes the PCA:"
   ]
  },
  {
   "cell_type": "code",
   "execution_count": 22,
   "metadata": {},
   "outputs": [],
   "source": [
    "def doPCA(data):\n",
    "    from sklearn.decomposition import PCA\n",
    "    pca = PCA(n_components=2)\n",
    "    pca.fit(data)\n",
    "\n",
    "    return pca"
   ]
  },
  {
   "cell_type": "code",
   "execution_count": 23,
   "metadata": {},
   "outputs": [
    {
     "data": {
      "text/plain": [
       "<matplotlib.collections.PathCollection at 0x19f5659c7f0>"
      ]
     },
     "execution_count": 23,
     "metadata": {},
     "output_type": "execute_result"
    },
    {
     "data": {
      "image/png": "[encoded data removed]",
      "text/plain": [
       "<Figure size 432x288 with 1 Axes>"
      ]
     },
     "metadata": {
      "needs_background": "light"
     },
     "output_type": "display_data"
    }
   ],
   "source": [
    "# I call the function\n",
    "pca=doPCA(X)\n",
    "# I apply the PCA that I have created to our data X\n",
    "reduced_data = pca.transform(X)\n",
    "# I show the reduced data\n",
    "plt.scatter(reduced_data[:,0], reduced_data[:,1])"
   ]
  },
  {
   "cell_type": "code",
   "execution_count": 24,
   "metadata": {},
   "outputs": [],
   "source": [
    "# I apply the same PCA to the previous centroids\n",
    "centroidsPCA=pca.transform(centroids)"
   ]
  },
  {
   "cell_type": "code",
   "execution_count": 25,
   "metadata": {},
   "outputs": [
    {
     "name": "stdout",
     "output_type": "stream",
     "text": [
      "original shape:    (63, 16)\n",
      "transformed shape: (63, 2)\n"
     ]
    }
   ],
   "source": [
    "# I print the previous and the transformed shape to see the difference\n",
    "\n",
    "print(\"original shape:   \", X.shape)\n",
    "print(\"transformed shape:\", reduced_data.shape)"
   ]
  },
  {
   "cell_type": "markdown",
   "metadata": {},
   "source": [
    "Now, I have the new clusters and centroids:"
   ]
  },
  {
   "cell_type": "code",
   "execution_count": 26,
   "metadata": {
    "scrolled": true
   },
   "outputs": [
    {
     "name": "stdout",
     "output_type": "stream",
     "text": [
      "[4 2 2 2 1 3 1 4 1 1 3 2 2 1 1 2 2 3 1 0 3 0 1 1 0 3 2 0 4 1 1 2 3 3 5 2 1\n",
      " 1 5 2 1 1 4 1 1 1 2 0 0 1 0 2 1 1 1 1 5 1 1 1 1 3 1]\n",
      "[[ 159.59253016  -30.68965975]\n",
      " [-103.3158842   -53.76637373]\n",
      " [ -74.06085292   16.88102531]\n",
      " [ 428.75060226    1.01478243]\n",
      " [-109.76141702  278.69273993]\n",
      " [ -84.15700519  125.98117818]]\n"
     ]
    }
   ],
   "source": [
    "new_clusters = kmeans.predict(X)\n",
    "centers = centroidsPCA\n",
    "print(new_clusters)\n",
    "print(centers)"
   ]
  },
  {
   "cell_type": "markdown",
   "metadata": {},
   "source": [
    "### Visualize the data"
   ]
  },
  {
   "cell_type": "markdown",
   "metadata": {},
   "source": [
    "We define a function that given a subject index returns the tower in which has spent most of his/her time."
   ]
  },
  {
   "cell_type": "code",
   "execution_count": 27,
   "metadata": {},
   "outputs": [],
   "source": [
    "def mostFreqTower(sIndex):\n",
    "    subject=final[sIndex]\n",
    "    i=0 \n",
    "    max=0\n",
    "    maxTower=0\n",
    "    while i<=7:\n",
    "        if X[sIndex][i]>max:\n",
    "            max=X[sIndex][i]\n",
    "            maxTower=i\n",
    "        i+=1\n",
    "    return maxTower\n",
    "        "
   ]
  },
  {
   "cell_type": "markdown",
   "metadata": {},
   "source": [
    "We now visualize the subjects in clusters with their most frequent tower:"
   ]
  },
  {
   "cell_type": "code",
   "execution_count": 28,
   "metadata": {},
   "outputs": [
    {
     "data": {
      "image/png": "[encoded data removed]",
      "text/plain": [
       "<Figure size 432x288 with 1 Axes>"
      ]
     },
     "metadata": {
      "needs_background": "light"
     },
     "output_type": "display_data"
    }
   ],
   "source": [
    "for index in range(len(reduced_data)):\n",
    "    if new_clusters[index]==0:\n",
    "        plt.scatter(reduced_data[index, 0], reduced_data[index, 1], s =50, c='g')\n",
    "    if new_clusters[index]==1:\n",
    "        plt.scatter(reduced_data[index, 0], reduced_data[index, 1], s =50, c='blue')\n",
    "    if new_clusters[index]==2:\n",
    "        plt.scatter(reduced_data[index, 0], reduced_data[index, 1], s =50, c='purple')\n",
    "    if new_clusters[index]==3:\n",
    "        plt.scatter(reduced_data[index, 0], reduced_data[index, 1], s =50, c='yellow')\n",
    "    if new_clusters[index]==4:\n",
    "        plt.scatter(reduced_data[index, 0], reduced_data[index, 1], s =50, c='lightgreen')\n",
    "    if new_clusters[index]==5:\n",
    "        plt.scatter(reduced_data[index, 0], reduced_data[index, 1], s =50, c='red')\n",
    "    text=mostFreqTower(index)\n",
    "    plt.annotate(text,(reduced_data[index, 0], reduced_data[index, 1]))\n",
    "plt.scatter(centers[0,0],centers[0,1], s=200, c='g', marker='s')\n",
    "plt.scatter(centers[1,0],centers[1,1], s=200, c='blue', marker='s')\n",
    "plt.scatter(centers[2,0],centers[2,1], s=200, c='purple', marker='s')\n",
    "plt.scatter(centers[3,0],centers[3,1], s=200, c='yellow', marker='s')\n",
    "plt.scatter(centers[4,0],centers[4,1], s=200, c='lightgreen', marker='s')\n",
    "plt.scatter(centers[5,0],centers[5,1], s=200, c='red', marker='s')\n",
    "\n",
    "plt.show()"
   ]
  },
  {
   "cell_type": "markdown",
   "metadata": {},
   "source": [
    "It can be observed that there is a correlation between the clusters and the most frequent tower for each subject."
   ]
  },
  {
   "cell_type": "markdown",
   "metadata": {},
   "source": [
    "Now, the same data is visualized but with the subject ID."
   ]
  },
  {
   "cell_type": "code",
   "execution_count": 29,
   "metadata": {},
   "outputs": [
    {
     "data": {
      "image/png": "[encoded data removed]",
      "text/plain": [
       "<Figure size 432x288 with 1 Axes>"
      ]
     },
     "metadata": {
      "needs_background": "light"
     },
     "output_type": "display_data"
    }
   ],
   "source": [
    "for index in range(len(reduced_data)):\n",
    "    if new_clusters[index]==0:\n",
    "        plt.scatter(reduced_data[index, 0], reduced_data[index, 1], s =50, c='g')\n",
    "    if new_clusters[index]==1:\n",
    "        plt.scatter(reduced_data[index, 0], reduced_data[index, 1], s =50, c='blue')\n",
    "    if new_clusters[index]==2:\n",
    "        plt.scatter(reduced_data[index, 0], reduced_data[index, 1], s =50, c='purple')\n",
    "    if new_clusters[index]==3:\n",
    "        plt.scatter(reduced_data[index, 0], reduced_data[index, 1], s =50, c='yellow')\n",
    "    if new_clusters[index]==4:\n",
    "        plt.scatter(reduced_data[index, 0], reduced_data[index, 1], s =50, c='lightgreen')\n",
    "    if new_clusters[index]==5:\n",
    "        plt.scatter(reduced_data[index, 0], reduced_data[index, 1], s =50, c='red')\n",
    "    text=final[index]\n",
    "    plt.annotate(text,(reduced_data[index, 0], reduced_data[index, 1]))\n",
    "plt.scatter(centers[0,0],centers[0,1], s=200, c='g', marker='s')\n",
    "plt.scatter(centers[1,0],centers[1,1], s=200, c='blue', marker='s')\n",
    "plt.scatter(centers[2,0],centers[2,1], s=200, c='purple', marker='s')\n",
    "plt.scatter(centers[3,0],centers[3,1], s=200, c='yellow', marker='s')\n",
    "plt.scatter(centers[4,0],centers[4,1], s=200, c='lightgreen', marker='s')\n",
    "plt.scatter(centers[5,0],centers[5,1], s=200, c='red', marker='s')\n",
    "\n",
    "plt.show()"
   ]
  },
  {
   "cell_type": "markdown",
   "metadata": {},
   "source": [
    "# Analyze and contrast the results"
   ]
  },
  {
   "cell_type": "markdown",
   "metadata": {},
   "source": [
    "Now my objective is to see if there is any correlation between the location results obtained and the answers of each subject to the **'lab'** and **'friends'** survey mentioned in the beginning. \n",
    "\n",
    "For this, I create a function 'groupSubjectInClusters' that groups the subjects in clusters in a matrix when given the clusters and the subjects. This matrix will be used as an input for the 'computeQuality' function, which returns the success rate (between 0 and 1), considering as a success when a subject was valued from another subject of the same cluster with a proximity between 3-5."
   ]
  },
  {
   "cell_type": "code",
   "execution_count": 30,
   "metadata": {},
   "outputs": [],
   "source": [
    "def groupSubjectInClusters(clusters,subjects):\n",
    "    c=[[],[],[],[],[],[]]\n",
    "    for i in range(len(clusters)):\n",
    "        if clusters[i]==0:\n",
    "            c[0].append(subjects[i])\n",
    "        if clusters[i]==1:\n",
    "            c[1].append(subjects[i])\n",
    "        if clusters[i]==2:\n",
    "            c[2].append(subjects[i])\n",
    "        if clusters[i]==3:\n",
    "            c[3].append(subjects[i])\n",
    "        if clusters[i]==4:\n",
    "            c[4].append(subjects[i])\n",
    "        if clusters[i]==5:\n",
    "            c[5].append(subjects[i])\n",
    "    return(c)"
   ]
  },
  {
   "cell_type": "code",
   "execution_count": 31,
   "metadata": {},
   "outputs": [],
   "source": [
    "c=groupSubjectInClusters(new_clusters,final)"
   ]
  },
  {
   "cell_type": "code",
   "execution_count": 32,
   "metadata": {},
   "outputs": [],
   "source": [
    "def computeQuality(clusters):\n",
    "    import math\n",
    "    flag=0\n",
    "    positionQ=0\n",
    "    positionJ=0\n",
    "    successCount=0\n",
    "    successSubject=0\n",
    "    successClusterMean=0\n",
    "    globalSuccess=0\n",
    "    for i in range(len(clusters)): #iterate through the clusters\n",
    "        successClusterMean=0\n",
    "        for j in range(len(clusters[i])): #iterate through the elements of the clusters\n",
    "            successCount=0\n",
    "            flag=0\n",
    "            p=0\n",
    "            #iterate through the elements of sub_sort to get the position of subject j in network.lab\n",
    "            while p<len(sub_sort) and flag==0:\n",
    "                if sub_sort[p]==clusters[i][j]:\n",
    "                    flag=1\n",
    "                    positionJ=p\n",
    "                p+=1\n",
    "\n",
    "            for q in range(len(clusters[i])): #iterate through the elements of the clusters (except j)\n",
    "                if q!=j:\n",
    "                    flag=0\n",
    "                    p=0\n",
    "                    #iterate through the elements of sub_sort to get the position of subject q in network.lab[j]\n",
    "                    while p<len(sub_sort) and flag==0:\n",
    "                        if sub_sort[p]==clusters[i][q]:\n",
    "                            flag=1\n",
    "                            positionQ=p\n",
    "                        p+=1\n",
    "                    #as we previously used 1h as a threshold, we will only admit proximity between 3-5\n",
    "                    if lab[positionJ][positionQ]==3 or lab[positionJ][positionQ]==4 or lab[positionJ][positionQ]==5:  \n",
    "                        successCount+=1\n",
    "            #the success for a particular subject\n",
    "            successSubject=successCount/(len(clusters[i])-1) \n",
    "            successClusterMean+=successSubject\n",
    "        #the mean of the success in a cluster\n",
    "        successClusterMean=successClusterMean/len(clusters[i])\n",
    "        globalSuccess+=successClusterMean\n",
    "    #the mean of the success of all the clusters\n",
    "    globalSuccess=globalSuccess/len(clusters)\n",
    "    return globalSuccess"
   ]
  },
  {
   "cell_type": "code",
   "execution_count": 33,
   "metadata": {},
   "outputs": [],
   "source": [
    "result=computeQuality(c)"
   ]
  },
  {
   "cell_type": "code",
   "execution_count": 34,
   "metadata": {},
   "outputs": [
    {
     "data": {
      "text/plain": [
       "0.026751797585130913"
      ]
     },
     "execution_count": 34,
     "metadata": {},
     "output_type": "execute_result"
    }
   ],
   "source": [
    "result"
   ]
  },
  {
   "cell_type": "markdown",
   "metadata": {},
   "source": [
    "The same is done for the  **'friends'** survey:"
   ]
  },
  {
   "cell_type": "code",
   "execution_count": 35,
   "metadata": {},
   "outputs": [],
   "source": [
    "def computeFriendsCorr(clusters):\n",
    "    import math\n",
    "    flag=0\n",
    "    positionQ=0\n",
    "    positionJ=0\n",
    "    successCount=0\n",
    "    successSubject=0\n",
    "    successClusterMean=0\n",
    "    globalSuccess=0\n",
    "    for i in range(len(clusters)): #iterate through the clusters\n",
    "        successClusterMean=0\n",
    "        for j in range(len(clusters[i])): #iterate through the elements of the clusters\n",
    "            successCount=0\n",
    "            flag=0\n",
    "            p=0\n",
    "            #iterate through the elements of sub_sort to get the position of subject j in network.lab\n",
    "            while p<len(sub_sort) and flag==0:\n",
    "                if sub_sort[p]==clusters[i][j]:\n",
    "                    flag=1\n",
    "                    positionJ=p\n",
    "                p+=1\n",
    "\n",
    "            for q in range(len(clusters[i])): #iterate through the elements of the clusters (except j)\n",
    "                if q!=j:\n",
    "                    flag=0\n",
    "                    p=0\n",
    "                    #iterate through the elements of sub_sort to get the position of subject q in network.lab[j]\n",
    "                    while p<len(sub_sort) and flag==0:\n",
    "                        if sub_sort[p]==clusters[i][q]:\n",
    "                            flag=1\n",
    "                            positionQ=p\n",
    "                        p+=1\n",
    "                    #as we previously used 1h as a threshold, we will only admit proximity between 3-5\n",
    "                    if not math.isnan(friends[positionJ][positionQ]):  \n",
    "                        successCount+=1\n",
    "            #the success for a particular subject\n",
    "            successSubject=successCount/(len(clusters[i])-1) \n",
    "            successClusterMean+=successSubject\n",
    "        #the mean of the success in a cluster\n",
    "        successClusterMean=successClusterMean/len(clusters[i])\n",
    "        globalSuccess+=successClusterMean\n",
    "    #the mean of the success of all the clusters\n",
    "    globalSuccess=globalSuccess/len(clusters)\n",
    "    return globalSuccess"
   ]
  },
  {
   "cell_type": "code",
   "execution_count": 36,
   "metadata": {},
   "outputs": [
    {
     "name": "stdout",
     "output_type": "stream",
     "text": [
      "0.00603717270383937\n"
     ]
    }
   ],
   "source": [
    "result2=computeFriendsCorr(c)\n",
    "print(result2)"
   ]
  },
  {
   "cell_type": "markdown",
   "metadata": {},
   "source": [
    "As it can be observed, the frequency and time spent in a tower is not a good indicator of the proximity and friendship (respectively) of subjects that work on the same area."
   ]
  }
 ],
 "metadata": {
  "kernelspec": {
   "display_name": "Python 3",
   "language": "python",
   "name": "python3"
  },
  "language_info": {
   "codemirror_mode": {
    "name": "ipython",
    "version": 3
   },
   "file_extension": ".py",
   "mimetype": "text/x-python",
   "name": "python",
   "nbconvert_exporter": "python",
   "pygments_lexer": "ipython3",
   "version": "3.7.2"
  }
 },
 "nbformat": 4,
 "nbformat_minor": 2
}
